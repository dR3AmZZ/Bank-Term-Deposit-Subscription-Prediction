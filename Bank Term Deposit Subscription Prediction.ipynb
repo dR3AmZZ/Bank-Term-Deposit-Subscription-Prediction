{
 "cells": [
  {
   "cell_type": "code",
   "execution_count": 1,
   "metadata": {},
   "outputs": [],
   "source": [
    "import pandas as pd"
   ]
  },
  {
   "cell_type": "code",
   "execution_count": 2,
   "metadata": {},
   "outputs": [],
   "source": [
    "bank = pd.read_csv('bank-full.csv')"
   ]
  },
  {
   "cell_type": "code",
   "execution_count": 3,
   "metadata": {},
   "outputs": [],
   "source": [
    "#store column names\n",
    "cols = bank.columns[0].split(';')\n",
    "for i in range(len(cols)):\n",
    "    cols[i] = cols[i].replace('\"','')"
   ]
  },
  {
   "cell_type": "code",
   "execution_count": 4,
   "metadata": {},
   "outputs": [],
   "source": [
    "# split original column\n",
    "bank.columns = ['col']\n",
    "bank = bank['col'].str.replace('\"','').str.split(';', expand = True)\n",
    "bank.columns = cols"
   ]
  },
  {
   "cell_type": "code",
   "execution_count": 5,
   "metadata": {},
   "outputs": [
    {
     "data": {
      "text/plain": [
       "age          object\n",
       "job          object\n",
       "marital      object\n",
       "education    object\n",
       "default      object\n",
       "balance      object\n",
       "housing      object\n",
       "loan         object\n",
       "contact      object\n",
       "day          object\n",
       "month        object\n",
       "duration     object\n",
       "campaign     object\n",
       "pdays        object\n",
       "previous     object\n",
       "poutcome     object\n",
       "y            object\n",
       "dtype: object"
      ]
     },
     "execution_count": 5,
     "metadata": {},
     "output_type": "execute_result"
    }
   ],
   "source": [
    "bank.dtypes"
   ]
  },
  {
   "cell_type": "code",
   "execution_count": 6,
   "metadata": {},
   "outputs": [],
   "source": [
    "bank['age'] = bank['age'].astype('int')\n",
    "bank['balance'] = bank['balance'].astype('int')\n",
    "bank['day'] = bank['day'].astype('int')\n",
    "bank['duration'] = bank['duration'].astype('int')\n",
    "bank['campaign'] = bank['campaign'].astype('int')\n",
    "bank['pdays'] = bank['pdays'].astype('int')\n",
    "bank['previous'] = bank['previous'].astype('int')"
   ]
  },
  {
   "cell_type": "code",
   "execution_count": 7,
   "metadata": {},
   "outputs": [
    {
     "name": "stdout",
     "output_type": "stream",
     "text": [
      "<class 'pandas.core.frame.DataFrame'>\n",
      "RangeIndex: 45211 entries, 0 to 45210\n",
      "Data columns (total 17 columns):\n",
      " #   Column     Non-Null Count  Dtype \n",
      "---  ------     --------------  ----- \n",
      " 0   age        45211 non-null  int32 \n",
      " 1   job        45211 non-null  object\n",
      " 2   marital    45211 non-null  object\n",
      " 3   education  45211 non-null  object\n",
      " 4   default    45211 non-null  object\n",
      " 5   balance    45211 non-null  int32 \n",
      " 6   housing    45211 non-null  object\n",
      " 7   loan       45211 non-null  object\n",
      " 8   contact    45211 non-null  object\n",
      " 9   day        45211 non-null  int32 \n",
      " 10  month      45211 non-null  object\n",
      " 11  duration   45211 non-null  int32 \n",
      " 12  campaign   45211 non-null  int32 \n",
      " 13  pdays      45211 non-null  int32 \n",
      " 14  previous   45211 non-null  int32 \n",
      " 15  poutcome   45211 non-null  object\n",
      " 16  y          45211 non-null  object\n",
      "dtypes: int32(7), object(10)\n",
      "memory usage: 4.7+ MB\n"
     ]
    }
   ],
   "source": [
    "bank.info()"
   ]
  },
  {
   "cell_type": "code",
   "execution_count": 8,
   "metadata": {},
   "outputs": [
    {
     "data": {
      "text/plain": [
       "age          0\n",
       "job          0\n",
       "marital      0\n",
       "education    0\n",
       "default      0\n",
       "balance      0\n",
       "housing      0\n",
       "loan         0\n",
       "contact      0\n",
       "day          0\n",
       "month        0\n",
       "duration     0\n",
       "campaign     0\n",
       "pdays        0\n",
       "previous     0\n",
       "poutcome     0\n",
       "y            0\n",
       "dtype: int64"
      ]
     },
     "execution_count": 8,
     "metadata": {},
     "output_type": "execute_result"
    }
   ],
   "source": [
    "# data preprocessing\n",
    "# check nan & null value\n",
    "bank.isna().sum(axis = 0)"
   ]
  },
  {
   "cell_type": "code",
   "execution_count": 9,
   "metadata": {},
   "outputs": [
    {
     "data": {
      "text/plain": [
       "age          0\n",
       "job          0\n",
       "marital      0\n",
       "education    0\n",
       "default      0\n",
       "balance      0\n",
       "housing      0\n",
       "loan         0\n",
       "contact      0\n",
       "day          0\n",
       "month        0\n",
       "duration     0\n",
       "campaign     0\n",
       "pdays        0\n",
       "previous     0\n",
       "poutcome     0\n",
       "y            0\n",
       "dtype: int64"
      ]
     },
     "execution_count": 9,
     "metadata": {},
     "output_type": "execute_result"
    }
   ],
   "source": [
    "bank.isnull().sum(axis = 0)"
   ]
  },
  {
   "cell_type": "code",
   "execution_count": 10,
   "metadata": {},
   "outputs": [
    {
     "data": {
      "text/plain": [
       "0"
      ]
     },
     "execution_count": 10,
     "metadata": {},
     "output_type": "execute_result"
    }
   ],
   "source": [
    "# check duplicate record\n",
    "bank.duplicated().sum()"
   ]
  },
  {
   "cell_type": "code",
   "execution_count": 11,
   "metadata": {},
   "outputs": [],
   "source": [
    "# # dealing with outliers\n",
    "# for col in numeric_col:\n",
    "#     if_outlier = np.abs(WF_train.loc[:,col] - WF_train.loc[:,col].mean())/WF_train.loc[:,col].std()>3\n",
    "#     outlier_col_index = WF_train[if_outlier].index\n",
    "#     outlier_index = outlier_index + outlier_col_index.tolist()\n",
    "# WF_train.drop(index = np.unique(outlier_index), inplace = True)\n",
    "# WF_train.reset_index(inplace = True, drop = True)"
   ]
  },
  {
   "cell_type": "code",
   "execution_count": 12,
   "metadata": {},
   "outputs": [],
   "source": [
    "import numpy as np\n",
    "import seaborn as sns\n",
    "import matplotlib.pyplot as plt\n",
    "import matplotlib.patches as mpatches"
   ]
  },
  {
   "cell_type": "code",
   "execution_count": 13,
   "metadata": {},
   "outputs": [
    {
     "data": {
      "image/png": "[encoded data removed]",
      "text/plain": [
       "<Figure size 432x288 with 1 Axes>"
      ]
     },
     "metadata": {},
     "output_type": "display_data"
    }
   ],
   "source": [
    "# exploaratory analysis\n",
    "# visualize success vs. failure to \n",
    "label = []\n",
    "values = []\n",
    "for (i,counts) in bank['y'].value_counts().items():\n",
    "    label.append(i)\n",
    "    values.append(counts)\n",
    "\n",
    "fig, ax = plt.subplots()\n",
    "plt.pie(x=values, labels =label,explode=[0.05]*2, autopct=\"%.1f%%\")\n",
    "plt.title('Yes vs. No')\n",
    "plt.show()"
   ]
  },
  {
   "cell_type": "code",
   "execution_count": 14,
   "metadata": {},
   "outputs": [],
   "source": [
    "# data preparation for stacked bar plot\n",
    "total_df = bank.groupby('job')['y'].count().reset_index()\n",
    "no_df = bank[bank['y'] =='no'].groupby('job').count().reset_index()"
   ]
  },
  {
   "cell_type": "code",
   "execution_count": 88,
   "metadata": {},
   "outputs": [
    {
     "data": {
      "text/html": [
       "<div>\n",
       "<style scoped>\n",
       "    .dataframe tbody tr th:only-of-type {\n",
       "        vertical-align: middle;\n",
       "    }\n",
       "\n",
       "    .dataframe tbody tr th {\n",
       "        vertical-align: top;\n",
       "    }\n",
       "\n",
       "    .dataframe thead th {\n",
       "        text-align: right;\n",
       "    }\n",
       "</style>\n",
       "<table border=\"1\" class=\"dataframe\">\n",
       "  <thead>\n",
       "    <tr style=\"text-align: right;\">\n",
       "      <th></th>\n",
       "      <th>job</th>\n",
       "      <th>y</th>\n",
       "    </tr>\n",
       "  </thead>\n",
       "  <tbody>\n",
       "    <tr>\n",
       "      <th>0</th>\n",
       "      <td>admin.</td>\n",
       "      <td>5171</td>\n",
       "    </tr>\n",
       "    <tr>\n",
       "      <th>1</th>\n",
       "      <td>blue-collar</td>\n",
       "      <td>9732</td>\n",
       "    </tr>\n",
       "    <tr>\n",
       "      <th>2</th>\n",
       "      <td>entrepreneur</td>\n",
       "      <td>1487</td>\n",
       "    </tr>\n",
       "    <tr>\n",
       "      <th>3</th>\n",
       "      <td>housemaid</td>\n",
       "      <td>1240</td>\n",
       "    </tr>\n",
       "    <tr>\n",
       "      <th>4</th>\n",
       "      <td>management</td>\n",
       "      <td>9458</td>\n",
       "    </tr>\n",
       "    <tr>\n",
       "      <th>5</th>\n",
       "      <td>retired</td>\n",
       "      <td>2264</td>\n",
       "    </tr>\n",
       "    <tr>\n",
       "      <th>6</th>\n",
       "      <td>self-employed</td>\n",
       "      <td>1579</td>\n",
       "    </tr>\n",
       "    <tr>\n",
       "      <th>7</th>\n",
       "      <td>services</td>\n",
       "      <td>4154</td>\n",
       "    </tr>\n",
       "    <tr>\n",
       "      <th>8</th>\n",
       "      <td>student</td>\n",
       "      <td>938</td>\n",
       "    </tr>\n",
       "    <tr>\n",
       "      <th>9</th>\n",
       "      <td>technician</td>\n",
       "      <td>7597</td>\n",
       "    </tr>\n",
       "    <tr>\n",
       "      <th>10</th>\n",
       "      <td>unemployed</td>\n",
       "      <td>1303</td>\n",
       "    </tr>\n",
       "    <tr>\n",
       "      <th>11</th>\n",
       "      <td>unknown</td>\n",
       "      <td>288</td>\n",
       "    </tr>\n",
       "  </tbody>\n",
       "</table>\n",
       "</div>"
      ],
      "text/plain": [
       "              job     y\n",
       "0          admin.  5171\n",
       "1     blue-collar  9732\n",
       "2    entrepreneur  1487\n",
       "3       housemaid  1240\n",
       "4      management  9458\n",
       "5         retired  2264\n",
       "6   self-employed  1579\n",
       "7        services  4154\n",
       "8         student   938\n",
       "9      technician  7597\n",
       "10     unemployed  1303\n",
       "11        unknown   288"
      ]
     },
     "execution_count": 88,
     "metadata": {},
     "output_type": "execute_result"
    }
   ],
   "source": [
    "total_df"
   ]
  },
  {
   "cell_type": "code",
   "execution_count": 90,
   "metadata": {},
   "outputs": [
    {
     "data": {
      "image/png": "[encoded data removed]",
      "text/plain": [
       "<Figure size 504x504 with 1 Axes>"
      ]
     },
     "metadata": {
      "needs_background": "light"
     },
     "output_type": "display_data"
    }
   ],
   "source": [
    "# stacked bar plot showing campaign condition by job\n",
    "plt.figure(figsize=(7,7))\n",
    "bar_total = sns.barplot(x='job', y ='y', data = total_df,color='darkblue')\n",
    "bar_no = sns.barplot(x='job', y ='y', data = no_df ,color='lightblue',ci=None)\n",
    "top_bar = mpatches.Patch(color='darkblue', label='subscription = yes')\n",
    "bottom_bar = mpatches.Patch(color='lightblue', label='subscription = no')\n",
    "plt.legend(handles=[top_bar, bottom_bar])\n",
    "plt.setp(bar_total.get_xticklabels(), rotation=45)\n",
    "plt.title('Count of answer vs. job')\n",
    "plt.show()"
   ]
  },
  {
   "cell_type": "code",
   "execution_count": 91,
   "metadata": {},
   "outputs": [
    {
     "data": {
      "image/png": "[encoded data removed]",
      "text/plain": [
       "<Figure size 432x288 with 1 Axes>"
      ]
     },
     "metadata": {
      "needs_background": "light"
     },
     "output_type": "display_data"
    }
   ],
   "source": [
    "# what is the education level with the highest acceptance rate\n",
    "total = bank.groupby('education')['y'].count().reset_index()\n",
    "yes_df = bank[bank['y'] =='yes'].groupby('education').count().reset_index()\n",
    "total['rate'] = yes_df['y']/total['y']\n",
    "total = total.sort_values('rate',ascending = True)\n",
    "ax= total.plot(kind='bar',\n",
    "          x='education',\n",
    "          y='rate')\n",
    "plt.title('Subscription rate vs. education')\n",
    "plt.show()"
   ]
  },
  {
   "cell_type": "code",
   "execution_count": 137,
   "metadata": {},
   "outputs": [
    {
     "data": {
      "text/html": [
       "<div>\n",
       "<style scoped>\n",
       "    .dataframe tbody tr th:only-of-type {\n",
       "        vertical-align: middle;\n",
       "    }\n",
       "\n",
       "    .dataframe tbody tr th {\n",
       "        vertical-align: top;\n",
       "    }\n",
       "\n",
       "    .dataframe thead th {\n",
       "        text-align: right;\n",
       "    }\n",
       "</style>\n",
       "<table border=\"1\" class=\"dataframe\">\n",
       "  <thead>\n",
       "    <tr style=\"text-align: right;\">\n",
       "      <th></th>\n",
       "      <th>age</th>\n",
       "      <th>balance</th>\n",
       "      <th>day</th>\n",
       "      <th>duration</th>\n",
       "      <th>campaign</th>\n",
       "      <th>pdays</th>\n",
       "      <th>previous</th>\n",
       "      <th>job_admin.</th>\n",
       "      <th>job_blue-collar</th>\n",
       "      <th>job_entrepreneur</th>\n",
       "      <th>...</th>\n",
       "      <th>month_jun</th>\n",
       "      <th>month_mar</th>\n",
       "      <th>month_may</th>\n",
       "      <th>month_nov</th>\n",
       "      <th>month_oct</th>\n",
       "      <th>month_sep</th>\n",
       "      <th>poutcome_failure</th>\n",
       "      <th>poutcome_other</th>\n",
       "      <th>poutcome_success</th>\n",
       "      <th>poutcome_unknown</th>\n",
       "    </tr>\n",
       "  </thead>\n",
       "  <tbody>\n",
       "    <tr>\n",
       "      <th>1929</th>\n",
       "      <td>24</td>\n",
       "      <td>507</td>\n",
       "      <td>3</td>\n",
       "      <td>257</td>\n",
       "      <td>1</td>\n",
       "      <td>-1</td>\n",
       "      <td>0</td>\n",
       "      <td>0</td>\n",
       "      <td>0</td>\n",
       "      <td>0</td>\n",
       "      <td>...</td>\n",
       "      <td>0</td>\n",
       "      <td>0</td>\n",
       "      <td>0</td>\n",
       "      <td>0</td>\n",
       "      <td>0</td>\n",
       "      <td>0</td>\n",
       "      <td>0</td>\n",
       "      <td>0</td>\n",
       "      <td>0</td>\n",
       "      <td>1</td>\n",
       "    </tr>\n",
       "    <tr>\n",
       "      <th>4175</th>\n",
       "      <td>64</td>\n",
       "      <td>5966</td>\n",
       "      <td>22</td>\n",
       "      <td>983</td>\n",
       "      <td>1</td>\n",
       "      <td>-1</td>\n",
       "      <td>0</td>\n",
       "      <td>0</td>\n",
       "      <td>0</td>\n",
       "      <td>0</td>\n",
       "      <td>...</td>\n",
       "      <td>1</td>\n",
       "      <td>0</td>\n",
       "      <td>0</td>\n",
       "      <td>0</td>\n",
       "      <td>0</td>\n",
       "      <td>0</td>\n",
       "      <td>0</td>\n",
       "      <td>0</td>\n",
       "      <td>0</td>\n",
       "      <td>1</td>\n",
       "    </tr>\n",
       "    <tr>\n",
       "      <th>15184</th>\n",
       "      <td>30</td>\n",
       "      <td>2593</td>\n",
       "      <td>27</td>\n",
       "      <td>662</td>\n",
       "      <td>7</td>\n",
       "      <td>-1</td>\n",
       "      <td>0</td>\n",
       "      <td>0</td>\n",
       "      <td>0</td>\n",
       "      <td>0</td>\n",
       "      <td>...</td>\n",
       "      <td>0</td>\n",
       "      <td>0</td>\n",
       "      <td>1</td>\n",
       "      <td>0</td>\n",
       "      <td>0</td>\n",
       "      <td>0</td>\n",
       "      <td>0</td>\n",
       "      <td>0</td>\n",
       "      <td>0</td>\n",
       "      <td>1</td>\n",
       "    </tr>\n",
       "    <tr>\n",
       "      <th>5171</th>\n",
       "      <td>22</td>\n",
       "      <td>104</td>\n",
       "      <td>18</td>\n",
       "      <td>509</td>\n",
       "      <td>1</td>\n",
       "      <td>185</td>\n",
       "      <td>3</td>\n",
       "      <td>0</td>\n",
       "      <td>0</td>\n",
       "      <td>0</td>\n",
       "      <td>...</td>\n",
       "      <td>0</td>\n",
       "      <td>0</td>\n",
       "      <td>0</td>\n",
       "      <td>0</td>\n",
       "      <td>1</td>\n",
       "      <td>0</td>\n",
       "      <td>0</td>\n",
       "      <td>0</td>\n",
       "      <td>1</td>\n",
       "      <td>0</td>\n",
       "    </tr>\n",
       "    <tr>\n",
       "      <th>3164</th>\n",
       "      <td>49</td>\n",
       "      <td>341</td>\n",
       "      <td>15</td>\n",
       "      <td>520</td>\n",
       "      <td>2</td>\n",
       "      <td>-1</td>\n",
       "      <td>0</td>\n",
       "      <td>0</td>\n",
       "      <td>0</td>\n",
       "      <td>0</td>\n",
       "      <td>...</td>\n",
       "      <td>0</td>\n",
       "      <td>0</td>\n",
       "      <td>1</td>\n",
       "      <td>0</td>\n",
       "      <td>0</td>\n",
       "      <td>0</td>\n",
       "      <td>0</td>\n",
       "      <td>0</td>\n",
       "      <td>0</td>\n",
       "      <td>1</td>\n",
       "    </tr>\n",
       "    <tr>\n",
       "      <th>...</th>\n",
       "      <td>...</td>\n",
       "      <td>...</td>\n",
       "      <td>...</td>\n",
       "      <td>...</td>\n",
       "      <td>...</td>\n",
       "      <td>...</td>\n",
       "      <td>...</td>\n",
       "      <td>...</td>\n",
       "      <td>...</td>\n",
       "      <td>...</td>\n",
       "      <td>...</td>\n",
       "      <td>...</td>\n",
       "      <td>...</td>\n",
       "      <td>...</td>\n",
       "      <td>...</td>\n",
       "      <td>...</td>\n",
       "      <td>...</td>\n",
       "      <td>...</td>\n",
       "      <td>...</td>\n",
       "      <td>...</td>\n",
       "      <td>...</td>\n",
       "    </tr>\n",
       "    <tr>\n",
       "      <th>11241</th>\n",
       "      <td>30</td>\n",
       "      <td>321</td>\n",
       "      <td>20</td>\n",
       "      <td>738</td>\n",
       "      <td>2</td>\n",
       "      <td>-1</td>\n",
       "      <td>0</td>\n",
       "      <td>0</td>\n",
       "      <td>1</td>\n",
       "      <td>0</td>\n",
       "      <td>...</td>\n",
       "      <td>0</td>\n",
       "      <td>0</td>\n",
       "      <td>0</td>\n",
       "      <td>1</td>\n",
       "      <td>0</td>\n",
       "      <td>0</td>\n",
       "      <td>0</td>\n",
       "      <td>0</td>\n",
       "      <td>0</td>\n",
       "      <td>1</td>\n",
       "    </tr>\n",
       "    <tr>\n",
       "      <th>7015</th>\n",
       "      <td>32</td>\n",
       "      <td>1732</td>\n",
       "      <td>14</td>\n",
       "      <td>1871</td>\n",
       "      <td>3</td>\n",
       "      <td>-1</td>\n",
       "      <td>0</td>\n",
       "      <td>0</td>\n",
       "      <td>0</td>\n",
       "      <td>0</td>\n",
       "      <td>...</td>\n",
       "      <td>0</td>\n",
       "      <td>0</td>\n",
       "      <td>0</td>\n",
       "      <td>0</td>\n",
       "      <td>0</td>\n",
       "      <td>0</td>\n",
       "      <td>0</td>\n",
       "      <td>0</td>\n",
       "      <td>0</td>\n",
       "      <td>1</td>\n",
       "    </tr>\n",
       "    <tr>\n",
       "      <th>18877</th>\n",
       "      <td>24</td>\n",
       "      <td>299</td>\n",
       "      <td>6</td>\n",
       "      <td>209</td>\n",
       "      <td>1</td>\n",
       "      <td>321</td>\n",
       "      <td>1</td>\n",
       "      <td>1</td>\n",
       "      <td>0</td>\n",
       "      <td>0</td>\n",
       "      <td>...</td>\n",
       "      <td>0</td>\n",
       "      <td>0</td>\n",
       "      <td>1</td>\n",
       "      <td>0</td>\n",
       "      <td>0</td>\n",
       "      <td>0</td>\n",
       "      <td>1</td>\n",
       "      <td>0</td>\n",
       "      <td>0</td>\n",
       "      <td>0</td>\n",
       "    </tr>\n",
       "    <tr>\n",
       "      <th>10063</th>\n",
       "      <td>34</td>\n",
       "      <td>3527</td>\n",
       "      <td>21</td>\n",
       "      <td>1022</td>\n",
       "      <td>1</td>\n",
       "      <td>-1</td>\n",
       "      <td>0</td>\n",
       "      <td>0</td>\n",
       "      <td>1</td>\n",
       "      <td>0</td>\n",
       "      <td>...</td>\n",
       "      <td>0</td>\n",
       "      <td>0</td>\n",
       "      <td>0</td>\n",
       "      <td>1</td>\n",
       "      <td>0</td>\n",
       "      <td>0</td>\n",
       "      <td>0</td>\n",
       "      <td>0</td>\n",
       "      <td>0</td>\n",
       "      <td>1</td>\n",
       "    </tr>\n",
       "    <tr>\n",
       "      <th>6615</th>\n",
       "      <td>27</td>\n",
       "      <td>3733</td>\n",
       "      <td>22</td>\n",
       "      <td>198</td>\n",
       "      <td>1</td>\n",
       "      <td>98</td>\n",
       "      <td>6</td>\n",
       "      <td>0</td>\n",
       "      <td>0</td>\n",
       "      <td>0</td>\n",
       "      <td>...</td>\n",
       "      <td>0</td>\n",
       "      <td>0</td>\n",
       "      <td>1</td>\n",
       "      <td>0</td>\n",
       "      <td>0</td>\n",
       "      <td>0</td>\n",
       "      <td>0</td>\n",
       "      <td>0</td>\n",
       "      <td>1</td>\n",
       "      <td>0</td>\n",
       "    </tr>\n",
       "  </tbody>\n",
       "</table>\n",
       "<p>14390 rows × 51 columns</p>\n",
       "</div>"
      ],
      "text/plain": [
       "       age  balance  day  duration  campaign  pdays  previous  job_admin.  \\\n",
       "1929    24      507    3       257         1     -1         0           0   \n",
       "4175    64     5966   22       983         1     -1         0           0   \n",
       "15184   30     2593   27       662         7     -1         0           0   \n",
       "5171    22      104   18       509         1    185         3           0   \n",
       "3164    49      341   15       520         2     -1         0           0   \n",
       "...    ...      ...  ...       ...       ...    ...       ...         ...   \n",
       "11241   30      321   20       738         2     -1         0           0   \n",
       "7015    32     1732   14      1871         3     -1         0           0   \n",
       "18877   24      299    6       209         1    321         1           1   \n",
       "10063   34     3527   21      1022         1     -1         0           0   \n",
       "6615    27     3733   22       198         1     98         6           0   \n",
       "\n",
       "       job_blue-collar  job_entrepreneur  ...  month_jun  month_mar  \\\n",
       "1929                 0                 0  ...          0          0   \n",
       "4175                 0                 0  ...          1          0   \n",
       "15184                0                 0  ...          0          0   \n",
       "5171                 0                 0  ...          0          0   \n",
       "3164                 0                 0  ...          0          0   \n",
       "...                ...               ...  ...        ...        ...   \n",
       "11241                1                 0  ...          0          0   \n",
       "7015                 0                 0  ...          0          0   \n",
       "18877                0                 0  ...          0          0   \n",
       "10063                1                 0  ...          0          0   \n",
       "6615                 0                 0  ...          0          0   \n",
       "\n",
       "       month_may  month_nov  month_oct  month_sep  poutcome_failure  \\\n",
       "1929           0          0          0          0                 0   \n",
       "4175           0          0          0          0                 0   \n",
       "15184          1          0          0          0                 0   \n",
       "5171           0          0          1          0                 0   \n",
       "3164           1          0          0          0                 0   \n",
       "...          ...        ...        ...        ...               ...   \n",
       "11241          0          1          0          0                 0   \n",
       "7015           0          0          0          0                 0   \n",
       "18877          1          0          0          0                 1   \n",
       "10063          0          1          0          0                 0   \n",
       "6615           1          0          0          0                 0   \n",
       "\n",
       "       poutcome_other  poutcome_success  poutcome_unknown  \n",
       "1929                0                 0                 1  \n",
       "4175                0                 0                 1  \n",
       "15184               0                 0                 1  \n",
       "5171                0                 1                 0  \n",
       "3164                0                 0                 1  \n",
       "...               ...               ...               ...  \n",
       "11241               0                 0                 1  \n",
       "7015                0                 0                 1  \n",
       "18877               0                 0                 0  \n",
       "10063               0                 0                 1  \n",
       "6615                0                 1                 0  \n",
       "\n",
       "[14390 rows x 51 columns]"
      ]
     },
     "execution_count": 137,
     "metadata": {},
     "output_type": "execute_result"
    }
   ],
   "source": [
    "X_train"
   ]
  },
  {
   "cell_type": "markdown",
   "metadata": {},
   "source": [
    "## Sample Data"
   ]
  },
  {
   "cell_type": "code",
   "execution_count": 18,
   "metadata": {},
   "outputs": [],
   "source": [
    "suc_sample = bank[bank['y'] =='yes'].sample(frac = 2, replace = True, random_state = 0).reset_index(drop = True)\n",
    "fal_sample = bank[bank['y'] =='no'].sample(frac = 0.25, replace = True,random_state = 0).reset_index(drop = True)"
   ]
  },
  {
   "cell_type": "code",
   "execution_count": 19,
   "metadata": {},
   "outputs": [],
   "source": [
    "df = pd.concat([suc_sample, fal_sample]).reset_index(drop = True)"
   ]
  },
  {
   "cell_type": "code",
   "execution_count": 20,
   "metadata": {},
   "outputs": [],
   "source": [
    "# transform categorical data into numeric\n",
    "# extract categorical columns\n",
    "c_cols = df.select_dtypes('object').columns.tolist()\n",
    "c_cols.remove('y')\n",
    "df_new = pd.get_dummies(data=df, columns=c_cols)"
   ]
  },
  {
   "cell_type": "code",
   "execution_count": 21,
   "metadata": {},
   "outputs": [],
   "source": [
    "df_new['y'] = df_new['y'].map({'yes':1,'no':0})"
   ]
  },
  {
   "cell_type": "code",
   "execution_count": 22,
   "metadata": {},
   "outputs": [],
   "source": [
    "# train test split\n",
    "from sklearn.model_selection import train_test_split\n",
    "x_col = df_new.columns.tolist()\n",
    "x_col.remove('y')\n",
    "Y = df_new['y']\n",
    "X = df_new[x_col]\n",
    "X_train, X_test, Y_train, Y_test = train_test_split(X, Y, test_size = 0.3)"
   ]
  },
  {
   "cell_type": "code",
   "execution_count": 27,
   "metadata": {},
   "outputs": [],
   "source": [
    "from sklearn.pipeline import make_pipeline\n",
    "from sklearn import preprocessing\n",
    "sc = preprocessing.StandardScaler()\n",
    "sc.fit(X_train)\n",
    "X_train_std = sc.transform(X_train)\n",
    "X_test_std = sc.transform(X_test)"
   ]
  },
  {
   "cell_type": "markdown",
   "metadata": {},
   "source": [
    "## Logistic regression"
   ]
  },
  {
   "cell_type": "code",
   "execution_count": 28,
   "metadata": {},
   "outputs": [],
   "source": [
    "from sklearn import metrics\n",
    "from sklearn.model_selection import GridSearchCV, ShuffleSplit, train_test_split, cross_val_score"
   ]
  },
  {
   "cell_type": "code",
   "execution_count": 29,
   "metadata": {},
   "outputs": [],
   "source": [
    "from sklearn.metrics import classification_report"
   ]
  },
  {
   "cell_type": "code",
   "execution_count": 30,
   "metadata": {},
   "outputs": [],
   "source": [
    "from sklearn.linear_model import LogisticRegression"
   ]
  },
  {
   "cell_type": "code",
   "execution_count": 67,
   "metadata": {},
   "outputs": [],
   "source": [
    "def cross_validation(clf, X, Y):\n",
    "    scores = cross_val_score(clf, X, Y, cv =5)\n",
    "    avg = sum(scores)/len(scores)\n",
    "    print('Accuracy by 5 folds cross validation:')\n",
    "    print(f\"{round(avg,4)*100}%\")\n",
    "    return avg"
   ]
  },
  {
   "cell_type": "code",
   "execution_count": 70,
   "metadata": {},
   "outputs": [
    {
     "name": "stdout",
     "output_type": "stream",
     "text": [
      "Accuracy by 5 folds cross validation:\n",
      "83.38%\n"
     ]
    }
   ],
   "source": [
    "# l2 penalty logistic regression\n",
    "lr = LogisticRegression(random_state=0)\n",
    "lr.fit(X_train_std, Y_train)\n",
    "# hold-out test\n",
    "acc_lr = cross_validation(lr,X_test_std,Y_test)"
   ]
  },
  {
   "cell_type": "code",
   "execution_count": 71,
   "metadata": {},
   "outputs": [
    {
     "name": "stdout",
     "output_type": "stream",
     "text": [
      "              precision    recall  f1-score   support\n",
      "\n",
      "          no       0.83      0.84      0.83      3023\n",
      "         yes       0.84      0.83      0.84      3145\n",
      "\n",
      "    accuracy                           0.83      6168\n",
      "   macro avg       0.83      0.83      0.83      6168\n",
      "weighted avg       0.83      0.83      0.83      6168\n",
      "\n"
     ]
    }
   ],
   "source": [
    "# model evaluation\n",
    "print(classification_report(Y_test, lr_pred,target_names=['no','yes'] ))"
   ]
  },
  {
   "cell_type": "code",
   "execution_count": 135,
   "metadata": {},
   "outputs": [
    {
     "name": "stdout",
     "output_type": "stream",
     "text": [
      "AUC score: \n",
      " 0.5079391333112802\n"
     ]
    },
    {
     "data": {
      "image/png": "[encoded data removed]",
      "text/plain": [
       "<Figure size 504x504 with 1 Axes>"
      ]
     },
     "metadata": {
      "needs_background": "light"
     },
     "output_type": "display_data"
    }
   ],
   "source": [
    "#predict the probability of the data points belongs to each class\n",
    "Y_pred_prob = lr.predict_proba(X_test)\n",
    "#calculate false positve, true positive rate,\n",
    "#known that roc curve is TP vs. FP\n",
    "FP_rate, TP_rate, threshold = roc_curve(Y_test, Y_pred_prob[:,1])\n",
    "print(\"AUC score: \\n\" ,roc_auc_score(Y_test, Y_pred_prob[:,1]))\n",
    "#plot roc curve\n",
    "plt.subplots(1,figsize=(7,7))\n",
    "plt.title(\"LR ROC Curve \")\n",
    "plt.plot(FP_rate, TP_rate, marker='.')\n",
    "plt.plot([0,1], ls=\"--\")\n",
    "plt.xlabel(\"False Positive Rate\")\n",
    "plt.ylabel(\"True Positive Rate\")\n",
    "plt.show()"
   ]
  },
  {
   "cell_type": "markdown",
   "metadata": {},
   "source": [
    "## SVM"
   ]
  },
  {
   "cell_type": "code",
   "execution_count": 38,
   "metadata": {},
   "outputs": [],
   "source": [
    "from sklearn import svm"
   ]
  },
  {
   "cell_type": "code",
   "execution_count": 39,
   "metadata": {},
   "outputs": [],
   "source": [
    "from sklearn.decomposition import PCA"
   ]
  },
  {
   "cell_type": "code",
   "execution_count": 40,
   "metadata": {},
   "outputs": [
    {
     "name": "stdout",
     "output_type": "stream",
     "text": [
      "Linear SVM Accuracy: \n",
      " 83.48%\n"
     ]
    },
    {
     "name": "stderr",
     "output_type": "stream",
     "text": [
      "C:\\Users\\13154\\anaconda3\\lib\\site-packages\\sklearn\\svm\\_base.py:947: ConvergenceWarning: Liblinear failed to converge, increase the number of iterations.\n",
      "  \"the number of iterations.\", ConvergenceWarning)\n"
     ]
    }
   ],
   "source": [
    "#predict with default parameters\n",
    "lin_clf = svm.LinearSVC(max_iter=10000)\n",
    "lin_clf.fit(X_train_std,Y_train)\n",
    "lin_clf_pred = lin_clf.predict(X_test_std)\n",
    "print(f\"Linear SVM Accuracy: \\n {round(metrics.accuracy_score(Y_test, lin_clf_pred)*100,2)}%\")"
   ]
  },
  {
   "cell_type": "markdown",
   "metadata": {},
   "source": [
    "### PCA dimension reduction"
   ]
  },
  {
   "cell_type": "code",
   "execution_count": 41,
   "metadata": {},
   "outputs": [],
   "source": [
    "# define n components\n",
    "n_components = len(X_train_std[0])-1"
   ]
  },
  {
   "cell_type": "code",
   "execution_count": 42,
   "metadata": {},
   "outputs": [],
   "source": [
    "pca = PCA(n_components=n_components)\n",
    "pca_df = pd.DataFrame(pca.fit_transform(X_train_std))"
   ]
  },
  {
   "cell_type": "code",
   "execution_count": 43,
   "metadata": {},
   "outputs": [
    {
     "data": {
      "text/plain": [
       "0.9999999999999998"
      ]
     },
     "execution_count": 43,
     "metadata": {},
     "output_type": "execute_result"
    }
   ],
   "source": [
    "sum(pca.explained_variance_ratio_)"
   ]
  },
  {
   "cell_type": "code",
   "execution_count": 44,
   "metadata": {},
   "outputs": [
    {
     "data": {
      "text/plain": [
       "Text(0, 0.5, 'Proportion Variance Explained')"
      ]
     },
     "execution_count": 44,
     "metadata": {},
     "output_type": "execute_result"
    },
    {
     "data": {
      "image/png": "[encoded data removed]",
      "text/plain": [
       "<Figure size 432x288 with 1 Axes>"
      ]
     },
     "metadata": {
      "needs_background": "light"
     },
     "output_type": "display_data"
    }
   ],
   "source": [
    "plt.figure()\n",
    "explained_var = pca.explained_variance_ratio_\n",
    "plt.plot(np.arange(1, len(explained_var)+1), explained_var)\n",
    "plt.grid(True)\n",
    "plt.title(\"Scree Plot\")\n",
    "plt.xlabel(\"Principal Component\")\n",
    "plt.ylabel(\"Proportion Variance Explained\")\n",
    "plt.show()"
   ]
  },
  {
   "cell_type": "code",
   "execution_count": 45,
   "metadata": {},
   "outputs": [
    {
     "data": {
      "text/plain": [
       "Text(0, 0.5, 'Cumulative Sum of Variance Explained')"
      ]
     },
     "execution_count": 45,
     "metadata": {},
     "output_type": "execute_result"
    },
    {
     "data": {
      "image/png": "[encoded data removed]",
      "text/plain": [
       "<Figure size 432x288 with 1 Axes>"
      ]
     },
     "metadata": {
      "needs_background": "light"
     },
     "output_type": "display_data"
    }
   ],
   "source": [
    "cum_sum = np.cumsum(explained_var)\n",
    "plt.figure()\n",
    "plt.plot(np.arange(1, len(explained_var)+1), cum_sum)\n",
    "plt.grid(True)\n",
    "plt.title(\"Cumulative Sum of Variance Explained\")\n",
    "plt.xlabel(\"Cumulative Components\")\n",
    "plt.ylabel(\"Cumulative Sum of Variance Explained\")\n",
    "plt.show()"
   ]
  },
  {
   "cell_type": "code",
   "execution_count": 46,
   "metadata": {},
   "outputs": [],
   "source": [
    "data_df = pca_df.iloc[:,:30]"
   ]
  },
  {
   "cell_type": "code",
   "execution_count": 47,
   "metadata": {},
   "outputs": [],
   "source": [
    "test_df = pd.DataFrame(pca.transform(X_test_std))"
   ]
  },
  {
   "cell_type": "code",
   "execution_count": 72,
   "metadata": {},
   "outputs": [
    {
     "name": "stdout",
     "output_type": "stream",
     "text": [
      "Linear SVM Accuracy: \n",
      " 80.72%\n",
      "Accuracy by 5 folds cross validation:\n",
      "80.67%\n"
     ]
    },
    {
     "data": {
      "text/plain": [
       "0.8067450881420053"
      ]
     },
     "execution_count": 72,
     "metadata": {},
     "output_type": "execute_result"
    }
   ],
   "source": [
    "#predict with default parameters\n",
    "svm_clf = svm.LinearSVC(max_iter=10000)\n",
    "svm_clf.fit(data_df,Y_train)\n",
    "svm_clf_pred = lin_clf.predict(test_df.iloc[:,:30])\n",
    "# print(f\"Linear SVM Accuracy: \\n {round(metrics.accuracy_score(Y_test, lin_clf_pred)*100,2)}%\")A\n",
    "acc_svc = cross_validation(svm_clf,test_df.iloc[:,:30], Y_test)"
   ]
  },
  {
   "cell_type": "code",
   "execution_count": 103,
   "metadata": {},
   "outputs": [
    {
     "name": "stdout",
     "output_type": "stream",
     "text": [
      "Accuracy by 5 folds cross validation:\n",
      "80.69%\n",
      "Accuracy by 5 folds cross validation:\n",
      "80.69%\n",
      "Accuracy by 5 folds cross validation:\n",
      "80.69%\n",
      "Accuracy by 5 folds cross validation:\n",
      "80.67%\n",
      "Accuracy by 5 folds cross validation:\n",
      "80.67%\n",
      "Accuracy by 5 folds cross validation:\n",
      "80.67%\n",
      "Accuracy by 5 folds cross validation:\n",
      "80.67%\n",
      "Accuracy by 5 folds cross validation:\n",
      "80.67%\n",
      "Accuracy by 5 folds cross validation:\n",
      "80.67%\n"
     ]
    },
    {
     "data": {
      "image/png": "[encoded data removed]",
      "text/plain": [
       "<Figure size 432x288 with 1 Axes>"
      ]
     },
     "metadata": {
      "needs_background": "light"
     },
     "output_type": "display_data"
    }
   ],
   "source": [
    "C = np.arange(0.1, 1, 0.1)\n",
    "acc_svm = []\n",
    "for c in C:\n",
    "    svm_clf = svm.LinearSVC(max_iter=10000, C = c)\n",
    "    svm_clf.fit(data_df,Y_train)\n",
    "    svm_clf_pred = lin_clf.predict(test_df.iloc[:,:30])\n",
    "    # print(f\"Linear SVM Accuracy: \\n {round(metrics.accuracy_score(Y_test, lin_clf_pred)*100,2)}%\")A\n",
    "    acc_svc = cross_validation(svm_clf,test_df.iloc[:,:30], Y_test)\n",
    "    acc_svm.append(acc_svc)\n",
    "plt.plot(C, acc_svm, marker = 'o')\n",
    "plt.title('C sensitivity')\n",
    "plt.xlabel('Cost')\n",
    "plt.ylabel('Accuracy')\n",
    "plt.show()"
   ]
  },
  {
   "cell_type": "code",
   "execution_count": 49,
   "metadata": {},
   "outputs": [
    {
     "name": "stdout",
     "output_type": "stream",
     "text": [
      "              precision    recall  f1-score   support\n",
      "\n",
      "          no       0.80      0.81      0.80      3023\n",
      "         yes       0.82      0.80      0.81      3145\n",
      "\n",
      "    accuracy                           0.81      6168\n",
      "   macro avg       0.81      0.81      0.81      6168\n",
      "weighted avg       0.81      0.81      0.81      6168\n",
      "\n"
     ]
    }
   ],
   "source": [
    "print(classification_report(Y_test, lin_clf_pred, target_names = ['no','yes']))"
   ]
  },
  {
   "cell_type": "code",
   "execution_count": 136,
   "metadata": {},
   "outputs": [
    {
     "name": "stdout",
     "output_type": "stream",
     "text": [
      "AUC score: \n",
      " 0.8821670846772518\n"
     ]
    },
    {
     "data": {
      "image/png": "[encoded data removed]",
      "text/plain": [
       "<Figure size 504x504 with 1 Axes>"
      ]
     },
     "metadata": {
      "needs_background": "light"
     },
     "output_type": "display_data"
    }
   ],
   "source": [
    "#predict the probability of the data points belongs to each class\n",
    "Y_pred_prob = svm_clf.decision_function(test_df.iloc[:,:30])\n",
    "#calculate false positve, true positive rate,\n",
    "#known that roc curve is TP vs. FP\n",
    "FP_rate, TP_rate, threshold = roc_curve(Y_test, Y_pred_prob)\n",
    "print(\"AUC score: \\n\" ,roc_auc_score(Y_test, Y_pred_prob))\n",
    "#plot roc curve\n",
    "plt.subplots(1,figsize=(7,7))\n",
    "plt.title(\"SVM ROC Curve \")\n",
    "plt.plot(FP_rate, TP_rate, marker='.')\n",
    "plt.plot([0,1], ls=\"--\")\n",
    "plt.xlabel(\"False Positive Rate\")\n",
    "plt.ylabel(\"True Positive Rate\")\n",
    "plt.show()"
   ]
  },
  {
   "cell_type": "markdown",
   "metadata": {},
   "source": [
    "## Random Forest"
   ]
  },
  {
   "cell_type": "code",
   "execution_count": 80,
   "metadata": {},
   "outputs": [
    {
     "name": "stdout",
     "output_type": "stream",
     "text": [
      "Accuracy of random forest algorithm: \n",
      " 91.55%\n"
     ]
    }
   ],
   "source": [
    "from sklearn.ensemble import RandomForestClassifier\n",
    "Random_forest_clf = RandomForestClassifier(n_estimators=20, max_features=5, random_state=5)\n",
    "Random_forest_clf.fit(X_train, Y_train)\n",
    "RF_clf_pred = Random_forest_clf.predict(X_test)\n",
    "print(f\"Accuracy of random forest algorithm: \\n {round(metrics.accuracy_score(Y_test, RF_clf_pred)*100,2)}%\")"
   ]
  },
  {
   "cell_type": "code",
   "execution_count": 85,
   "metadata": {},
   "outputs": [
    {
     "name": "stdout",
     "output_type": "stream",
     "text": [
      "Best parameters for Random forest are:\n",
      "criterion:entropy\n",
      "max_depth:50\n",
      "max_features:7\n",
      "n_estimators:100\n"
     ]
    }
   ],
   "source": [
    "# hyperparameter tuning\n",
    "rf_par = {'n_estimators':[10,50,100],\n",
    "         'max_features':[3,5,7],\n",
    "         'max_depth':[5,25,50],\n",
    "         'criterion':['gini','entropy']}\n",
    "cv = ShuffleSplit(n_splits=5,test_size=0.3,random_state=5)\n",
    "random_forest_grid = GridSearchCV(RandomForestClassifier(random_state = 5),\n",
    "                                 param_grid=rf_par,\n",
    "                                 cv=cv)\n",
    "random_forest_grid.fit(X_train,Y_train)\n",
    "print(\"Best parameters for Random forest are:\")\n",
    "for index, values in random_forest_grid.best_params_.items():\n",
    "    print(f\"{index}:{values}\")"
   ]
  },
  {
   "cell_type": "code",
   "execution_count": 83,
   "metadata": {},
   "outputs": [
    {
     "data": {
      "text/plain": [
       "RandomForestClassifier(bootstrap=True, ccp_alpha=0.0, class_weight=None,\n",
       "                       criterion='gini', max_depth=None, max_features=5,\n",
       "                       max_leaf_nodes=None, max_samples=None,\n",
       "                       min_impurity_decrease=0.0, min_impurity_split=None,\n",
       "                       min_samples_leaf=1, min_samples_split=2,\n",
       "                       min_weight_fraction_leaf=0.0, n_estimators=20,\n",
       "                       n_jobs=None, oob_score=False, random_state=5, verbose=0,\n",
       "                       warm_start=False)"
      ]
     },
     "execution_count": 83,
     "metadata": {},
     "output_type": "execute_result"
    }
   ],
   "source": [
    "Random_forest_clf"
   ]
  },
  {
   "cell_type": "code",
   "execution_count": 82,
   "metadata": {},
   "outputs": [
    {
     "data": {
      "text/plain": [
       "RandomForestClassifier(bootstrap=True, ccp_alpha=0.0, class_weight=None,\n",
       "                       criterion='entropy', max_depth=50, max_features=7,\n",
       "                       max_leaf_nodes=None, max_samples=None,\n",
       "                       min_impurity_decrease=0.0, min_impurity_split=None,\n",
       "                       min_samples_leaf=1, min_samples_split=2,\n",
       "                       min_weight_fraction_leaf=0.0, n_estimators=50,\n",
       "                       n_jobs=None, oob_score=False, random_state=None,\n",
       "                       verbose=0, warm_start=False)"
      ]
     },
     "execution_count": 82,
     "metadata": {},
     "output_type": "execute_result"
    }
   ],
   "source": [
    "random_forest_grid.best_estimator_"
   ]
  },
  {
   "cell_type": "code",
   "execution_count": 79,
   "metadata": {},
   "outputs": [
    {
     "name": "stdout",
     "output_type": "stream",
     "text": [
      "Accuracy of random forest algorithm after tuning: \n",
      " 92.09%\n"
     ]
    }
   ],
   "source": [
    "RF_best_pred = random_forest_grid.best_estimator_.predict(X_test)\n",
    "print(f\"Accuracy of random forest algorithm after tuning: \\n {round(metrics.accuracy_score(Y_test, RF_best_pred)*100,2)}%\")"
   ]
  },
  {
   "cell_type": "code",
   "execution_count": 101,
   "metadata": {},
   "outputs": [
    {
     "name": "stdout",
     "output_type": "stream",
     "text": [
      "              precision    recall  f1-score   support\n",
      "\n",
      "          no       0.95      0.88      0.92      3023\n",
      "         yes       0.89      0.96      0.93      3145\n",
      "\n",
      "    accuracy                           0.92      6168\n",
      "   macro avg       0.92      0.92      0.92      6168\n",
      "weighted avg       0.92      0.92      0.92      6168\n",
      "\n"
     ]
    }
   ],
   "source": [
    "print(classification_report(Y_test, RF_best_pred, target_names = ['no','yes']))"
   ]
  },
  {
   "cell_type": "code",
   "execution_count": 102,
   "metadata": {},
   "outputs": [
    {
     "name": "stdout",
     "output_type": "stream",
     "text": [
      "AUC score: \n",
      " 0.9807488113125287\n"
     ]
    },
    {
     "data": {
      "image/png": "[encoded data removed]",
      "text/plain": [
       "<Figure size 504x504 with 1 Axes>"
      ]
     },
     "metadata": {
      "needs_background": "light"
     },
     "output_type": "display_data"
    }
   ],
   "source": [
    "from sklearn.metrics import roc_curve, roc_auc_score\n",
    "#predict the probability of the data points belongs to each class\n",
    "Y_pred_prob = random_forest_grid.best_estimator_.predict_proba(X_test)\n",
    "#calculate false positve, true positive rate,\n",
    "#known that roc curve is TP vs. FP\n",
    "FP_rate, TP_rate, threshold = roc_curve(Y_test, Y_pred_prob[:,1])\n",
    "print(\"AUC score: \\n\" ,roc_auc_score(Y_test, Y_pred_prob[:,1]))\n",
    "#plot roc curve\n",
    "plt.subplots(1,figsize=(7,7))\n",
    "plt.title(\"RF ROC Curve \")\n",
    "plt.plot(FP_rate, TP_rate, marker='.')\n",
    "plt.plot([0,1], ls=\"--\")\n",
    "plt.xlabel(\"False Positive Rate \")\n",
    "plt.ylabel(\"True Positive Rate\")\n",
    "plt.show()"
   ]
  },
  {
   "cell_type": "code",
   "execution_count": 125,
   "metadata": {},
   "outputs": [],
   "source": [
    "# extract feature importance of random forest\n",
    "\n",
    "# extract feature importances\n",
    "fi_df = pd.DataFrame(random_forest_grid.best_estimator_.feature_importances_, columns=['Importances'])\n",
    "fi_df['feature_name'] =  X.columns\n",
    "fi_df.sort_values(by=['Importances'], ascending=True, inplace=True)\n",
    "fi_df_new = fi_df[fi_df['Importances']>0.03]\n",
    "fi_df.sort_values(by=['Importances'], inplace=True)"
   ]
  },
  {
   "cell_type": "code",
   "execution_count": 131,
   "metadata": {},
   "outputs": [
    {
     "data": {
      "image/png": "[encoded data removed]",
      "text/plain": [
       "<Figure size 1440x576 with 1 Axes>"
      ]
     },
     "metadata": {
      "needs_background": "light"
     },
     "output_type": "display_data"
    }
   ],
   "source": [
    "fi_df.head().plot.barh(x='feature_name', \n",
    "               y ='Importances',\n",
    "               figsize=(20,8), \n",
    "               title='5 meanlingless feature', \n",
    "               fontsize=15)\n",
    "plt.show()"
   ]
  },
  {
   "cell_type": "code",
   "execution_count": 109,
   "metadata": {},
   "outputs": [
    {
     "data": {
      "text/plain": [
       "<Figure size 1440x720 with 0 Axes>"
      ]
     },
     "metadata": {},
     "output_type": "display_data"
    },
    {
     "data": {
      "image/png": "[encoded data removed]",
      "text/plain": [
       "<Figure size 1440x576 with 1 Axes>"
      ]
     },
     "metadata": {
      "needs_background": "light"
     },
     "output_type": "display_data"
    }
   ],
   "source": [
    "plt.figure(figsize=(20,10))\n",
    "fi_df_new.plot.barh(x='feature_name', \n",
    "               y ='Importances',\n",
    "               figsize=(20,8), \n",
    "               title='Feature Importances', \n",
    "               fontsize=15)\n",
    "plt.title('Feature Importance Bar Chart')\n",
    "plt.show()"
   ]
  }
 ],
 "metadata": {
  "kernelspec": {
   "display_name": "Python 3",
   "language": "python",
   "name": "python3"
  },
  "language_info": {
   "codemirror_mode": {
    "name": "ipython",
    "version": 3
   },
   "file_extension": ".py",
   "mimetype": "text/x-python",
   "name": "python",
   "nbconvert_exporter": "python",
   "pygments_lexer": "ipython3",
   "version": "3.7.6"
  }
 },
 "nbformat": 4,
 "nbformat_minor": 4
}
